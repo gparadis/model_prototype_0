{
 "cells": [
  {
   "cell_type": "markdown",
   "id": "328ca48c-19e6-4e91-94c8-8565fbac96f9",
   "metadata": {
    "tags": []
   },
   "source": [
    "## Preamble\n",
    "\n",
    "Import modules, define classes and functions and constants, etc."
   ]
  },
  {
   "cell_type": "code",
   "execution_count": 1,
   "id": "1b956ab7-5bca-4d4a-a24e-7748f5c36622",
   "metadata": {
    "tags": []
   },
   "outputs": [],
   "source": [
    "%load_ext autoreload\n",
    "%autoreload 2"
   ]
  },
  {
   "cell_type": "code",
   "execution_count": 57,
   "id": "cae1c034-1849-4efb-9a88-dc8b3cd83a2c",
   "metadata": {
    "tags": []
   },
   "outputs": [],
   "source": [
    "import ws3.forest, ws3.core\n",
    "import matplotlib.pyplot as plt\n",
    "import pandas as pd"
   ]
  },
  {
   "cell_type": "code",
   "execution_count": 3,
   "id": "ab4bd279-bfba-48c4-811e-5a1a4234e4a5",
   "metadata": {
    "tags": []
   },
   "outputs": [],
   "source": [
    "data_path = 'data/input'\n",
    "# fert_codes = ['00',\n",
    "#               '11',\n",
    "#               '12',\n",
    "#               '13',\n",
    "#               '14',\n",
    "#               '15',\n",
    "#               '16',\n",
    "#               '17',\n",
    "#               '21',\n",
    "#               '22',\n",
    "#               '23',\n",
    "#               '24',\n",
    "#               '25',\n",
    "#               '26',\n",
    "#               '31',\n",
    "#               '32',\n",
    "#               '33',\n",
    "#               '34',\n",
    "#               '35']\n",
    "period_length = 10\n",
    "max_age = 350\n",
    "base_year = 2020\n",
    "horizon = 10\n",
    "# curve_table = pd.read_csv('%s/curve_table.csv' % data_path)\n",
    "model_name = 'tsa24_clipped'\n",
    "harvest_acode = 'cc'"
   ]
  },
  {
   "cell_type": "markdown",
   "id": "e9e3564b-a6b3-4809-906c-78dcd0ab8f58",
   "metadata": {},
   "source": [
    "# Create a new `ForestModel` instance"
   ]
  },
  {
   "cell_type": "code",
   "execution_count": null,
   "id": "94b0041e-5d73-4057-975b-24c38d75fba5",
   "metadata": {
    "tags": []
   },
   "outputs": [],
   "source": [
    "fm = ws3.forest.ForestModel(model_name=model_name,\n",
    "                            model_path=data_path,\n",
    "                            base_year=base_year,\n",
    "                            horizon=horizon,\n",
    "                            period_length=period_length,\n",
    "                            max_age=max_age)"
   ]
  },
  {
   "cell_type": "code",
   "execution_count": 29,
   "id": "b0958e12-f69d-49da-b8cb-cd3dd0748164",
   "metadata": {
    "tags": []
   },
   "outputs": [],
   "source": [
    "fm.import_landscape_section()"
   ]
  },
  {
   "cell_type": "code",
   "execution_count": 30,
   "id": "1e0ed8d8-b355-4f4f-84bd-98f43d493aad",
   "metadata": {
    "tags": []
   },
   "outputs": [
    {
     "data": {
      "text/plain": [
       "0"
      ]
     },
     "execution_count": 30,
     "metadata": {},
     "output_type": "execute_result"
    }
   ],
   "source": [
    "fm.import_areas_section()"
   ]
  },
  {
   "cell_type": "code",
   "execution_count": 31,
   "id": "035233f0-be6f-433a-b9ec-8166fbb202f3",
   "metadata": {
    "tags": []
   },
   "outputs": [],
   "source": [
    "fm.import_yields_section()"
   ]
  },
  {
   "cell_type": "markdown",
   "id": "67b3ae10-62ec-4a3e-a68d-d62bbfa02ad0",
   "metadata": {},
   "source": [
    "Note that we have to manually flag the `cc` action as a harvest action (or it will not pass the `is_harvest` gate in `cmp_c_z` when building the optimization model (and there will be no harvest volume to optimize, etc). Currently no way to do this automatically in the `import_actions_section` method, but will try to include something later to avoid having to remember to do this. "
   ]
  },
  {
   "cell_type": "code",
   "execution_count": 32,
   "id": "77c6eb05-d6cf-4b28-9dd5-6b96d517aabd",
   "metadata": {
    "tags": []
   },
   "outputs": [],
   "source": [
    "fm.import_actions_section()\n",
    "fm.actions[harvest_acode].is_harvest = True"
   ]
  },
  {
   "cell_type": "markdown",
   "id": "a3f748db-f77c-490c-a715-5c121a05cc16",
   "metadata": {},
   "source": [
    "Add a \"null\" action (does nothing). Needed for optimization functions to work. Sort of an obscure design, but that is the way ws3 is implemented for the moment so just roll with it."
   ]
  },
  {
   "cell_type": "code",
   "execution_count": 33,
   "id": "ea25209f-8270-4bc6-8f8a-b018953a4dfd",
   "metadata": {
    "tags": []
   },
   "outputs": [],
   "source": [
    "fm.add_null_action()"
   ]
  },
  {
   "cell_type": "code",
   "execution_count": 34,
   "id": "16e94b98-1030-4060-b796-265742343828",
   "metadata": {
    "tags": []
   },
   "outputs": [],
   "source": [
    "fm.import_transitions_section()"
   ]
  },
  {
   "cell_type": "code",
   "execution_count": 35,
   "id": "956b5c8e-6ad4-43ca-babe-22f04d7d4889",
   "metadata": {
    "tags": []
   },
   "outputs": [],
   "source": [
    "fm.compile_actions()"
   ]
  },
  {
   "cell_type": "code",
   "execution_count": 36,
   "id": "2277313e-3986-422f-b97a-0b82c618bbc7",
   "metadata": {
    "tags": []
   },
   "outputs": [],
   "source": [
    "fm.initialize_areas()\n",
    "fm.reset_actions()"
   ]
  },
  {
   "cell_type": "markdown",
   "id": "78d007d4-22d7-43e8-b814-31d85e22a28a",
   "metadata": {},
   "source": [
    "# Define a base scenario (add optimization problem)"
   ]
  },
  {
   "cell_type": "markdown",
   "id": "d392c7f8-6812-4fd4-821f-7d331b1964d9",
   "metadata": {},
   "source": [
    "First we need to define a few utility functions that we will use to build the problems (e.g., objective function coefficient function, even flow constraint coefficient function, general constraint coefficient function).\n",
    "\n",
    "Note that the `spades_ws3` project contains several useful chunks of code that you can use as a starting point (on GitHub, see link below).\n",
    "\n",
    "https://github.com/gparadis/spades_ws3/blob/master/python/spadesws3.py"
   ]
  },
  {
   "cell_type": "code",
   "execution_count": 37,
   "id": "a4dfbd31-ebe4-46e0-b4cd-1d768cb0f991",
   "metadata": {
    "tags": []
   },
   "outputs": [],
   "source": [
    "def cmp_c_z(fm, path, expr):\n",
    "    \"\"\"\n",
    "    Compile objective function coefficient (given ForestModel instance, \n",
    "    leaf-to-root-node path, and expression to evaluate).\n",
    "    \"\"\"\n",
    "    result = 0.\n",
    "    for t, n in enumerate(path, start=1):\n",
    "        d = n.data()\n",
    "        if fm.is_harvest(d['acode']):\n",
    "            result += fm.compile_product(t, expr, d['acode'], [d['dtk']], d['age'], coeff=False)\n",
    "    return result\n",
    "\n",
    "def cmp_c_cflw(fm, path, expr, mask=None): # product, all harvest actions\n",
    "    \"\"\"\n",
    "    Compile flow constraint coefficient for actionned area (given ForestModel instance, \n",
    "    leaf-to-root-node path, expression to evaluate, and optional mask).\n",
    "    \"\"\"\n",
    "    result = {}\n",
    "    for t, n in enumerate(path, start=1):\n",
    "        d = n.data()\n",
    "        if mask and not fm.match_mask(mask, d['dtk']): continue\n",
    "        if fm.is_harvest(d['acode']):\n",
    "            result[t] = fm.compile_product(t, expr, d['acode'], [d['dtk']], d['age'], coeff=False)\n",
    "    return result\n",
    "\n",
    "\n",
    "def cmp_c_caa(fm, path, expr, acodes, mask=None): # product, named actions\n",
    "    \"\"\"\n",
    "    Compile constraint coefficient for actionned area (given ForestModel instance, \n",
    "    leaf-to-root-node path, expression to evaluate, list of action codes, and optional mask).\n",
    "    \"\"\"\n",
    "    result = {}\n",
    "    for t, n in enumerate(path, start=1):\n",
    "        d = n.data()\n",
    "        if mask and not fm.match_mask(mask, d['dtk']): continue\n",
    "        if d['acode'] in acodes:\n",
    "            #import pdb\n",
    "            #pdb.set_trace()\n",
    "            result[t] = fm.compile_product(t, expr, d['acode'], [d['dtk']], d['age'], coeff=False)\n",
    "    return result\n",
    "\n",
    "\n",
    "def cmp_c_ci(fm, path, yname, mask=None): # product, named actions\n",
    "    \"\"\"\n",
    "    Compile constraint coefficient for inventory (given ForestModel instance, \n",
    "    leaf-to-root-node path, expression to evaluate, and optional mask).\n",
    "    \"\"\"\n",
    "    result = {}\n",
    "    for t, n in enumerate(path, start=1):\n",
    "        d = n.data()\n",
    "        if mask and not fm.match_mask(mask, d['dtk']): continue\n",
    "        result[t] = fm.inventory(t, yname=yname, age=d['age'], dtype_keys=[d['dtk']]) \n",
    "    return result"
   ]
  },
  {
   "cell_type": "markdown",
   "id": "1f5f6bbe-4ab5-4e96-bb35-70a415b8a171",
   "metadata": {},
   "source": [
    "Define a generic base scenario function, and link it to a dispatch function keyed on scenario name string (e.g., `base`). \n",
    "\n",
    "Note how we use `functools.partial` to specialize the more general functions defined above for use in the `coeff_funcs` arg of `ForestModel.add_problem`. Otherwise we would have to define an entirely new function each time we defined a slightly different objective or constraint in one of our scenarios, which would get tedious and messy. The tedium and mess would be more evident if we had a large number of alternative scenarios defined in the same notebook (which we do not here, but use your imagination). \n",
    "\n",
    "Note also that the expected data structures for the various args to `ForestModel.add_problem` must be matched exactly or `ws3` will likely crash somewhere in one of the series of complicated private optimization model-building methods that get called from `ForestModel.add_problem`. You _should not_ have to unpack the exact logic of this model-building code to figure out why your model is crashing... it really is quite complicated and hard to follow. If you model is crashing there, you probably fed invalid (or incorrectly structured) args to `ForestModel.add_problem`. Carefully review the structure and values of your args to find the problem. I left some notes below (and some comments in the `_gen_scen_base` function code) to help clarify the expected arg structure, and will work on expanding the docstrings in the `ws3` source code so this is less obscure going forward.\n",
    "\n",
    "I also had to patch the `ws3` code in two places so that it would \"grow\" correctly with the model set up to use _years_ as the age unit. For some reason the latest `dev` branch of `ws3` on GitHub was in some sort of intermediate state between using _periods_ and _years_ as the age unit. Originally `ws3` was implemented to import and simulate legacy Woodstock model input datasets, so it used _periods_ as the age unit (like Woodstock). At some point I think I hastily patched `ws3` to use _years_ as the age unit to make it work with `spades_ws3` for specific projects that needed to get done and delivered... if I recall we set the period length to 1 year for all those projects so it \"just worked\", but now we have a bit of a mess. Oops. Ultimately, I will need to revert `ws3` back to using Woodstock-compatible _period_ age unit (but make sure that the `spatial` module can still spatially and temporally disaggregate the aspatial periodic solutions from the Model I LP optimization problems into year-length time slices (maybe with age optionally expressed in years in output from this, for compatibility with downstream linked models like `SpaDES`). This is just a side-effect of many iterations of re-purposing `ws3` to work in a long (ad hoc) sequence of real research projects that had very specific input and output data specs. It is actually remarkable that `ws3` is not _more_ of a mess than it currently is, given the history and essentially null development budget. Use"
   ]
  },
  {
   "cell_type": "markdown",
   "id": "ba969b1b-1b62-4253-b517-ce37e3eb47de",
   "metadata": {},
   "source": [
    "`ForestModel.add_problem` arg specs are described below.\n",
    "\n",
    "`name`: String. Used as key to store `Problem` instances in a dict in the `ForestModel` instanace, so make sure it is unique within a given model or you will overwrite dict values (assuming you want to stuff multiple problems, and their solutions, into your model at the same time). \n",
    "    \n",
    "`coeff_funcs`: Dict of function references, keyed on _row name_ strings. These are the functions that generate the LP optimization problem matrix coefficients (for the objective function and constraint rows). This one gets complicated, and is a likely source of bugs. Make sure the row name key strings are all unique or you will make a mess. You can name the constraint rows anything you want, but the objective function row has to be named `z`. All coefficient functions must accept exactly two args, in this order: a `ws3.forest.ForestModel` instance and a `ws3.common.Path` instance. The `z` coefficient function is special in that it must return a single float value. All other (i.e., constraint) coefficient functions just return a dict of floats, keyed on period ints (can be sparse, i.e., not necessary to include key:value pairs in output dict if value is 0.0). It is useful (but not necessary) to use `functools.partial` to specialize a smaller number of more general function definitions (with more args, that get \"locked down\" and hidden by `partial`) as we have done in the example in this notebook.\n",
    "\n",
    "`cflw_e`: Dict of `(dict, int)` tuples, keyed on _row name_ strings (must match _row name_ key values used to define coefficient functions for flow constraints in `coeff_func` dict), where the int:float dict embedded in the tuple defines epsilon values keyed on periods (must include all periods, even if epsilon value is always the same). See example below. \n",
    "\n",
    "```\n",
    "{\n",
    "  'cflw_acut':({1:0.01, 2:0.01, ..., 10:0.01}, 1),\n",
    "  'cflw_vcut':({1:0.05, 2:0.05, ..., 10:0.05}, 1)\n",
    "}\n",
    "```\n",
    "\n",
    "`cgen_data`: Dict of dict of dicts. The outer-level dict is keyed on _row name_ strings (must match row names used in `coeff_funcs`. The middle second level of dicts always has keys `'lb'` and `'ub'`, and the inner level of dicts specifies lower- and upper-bound general constraint RHS (float) values, keyed on period (int).\n",
    "\n",
    "`acodes`: List of strings. Action codes to be included in optimization problem formulation (actions must defined in the `ForestModel` instance, but can be only a subset).\n",
    "\n",
    "`sense`: Must be one of `ws3.opt.SENSE_MAXIMIZE` or `ws3.opt.SENSE_MINIMIZE`.\n",
    "\n",
    "`mask`: Tuple of strings constituting a valid mask for your `ForestModel` instance. Can be `None` if you do not want to filter `DevelopmentType` instances."
   ]
  },
  {
   "cell_type": "code",
   "execution_count": 74,
   "id": "93b81c76-47e0-4ca8-8525-4cced1c06934",
   "metadata": {
    "tags": []
   },
   "outputs": [],
   "source": [
    "def _gen_scen_base(fm, name='base', util=0.85, harvest_acode='cc',  \n",
    "                   tvy_name='volume', obj_mode='max_hvol', mask=None):\n",
    "    from functools import partial\n",
    "    coeff_funcs = {}\n",
    "    cflw_e = {}\n",
    "    cgen_data = {}\n",
    "\n",
    "    # define list of action codes\n",
    "    acodes = ['null', harvest_acode]  \n",
    "    \n",
    "    # define volume expression\n",
    "    vexpr = '%s * %0.2f' % (tvy_name, util)\n",
    "\n",
    "    # switch between 'max harvest volume' and 'min harvest area' objective function modes\n",
    "    if obj_mode == 'max_hvol':\n",
    "        sense = ws3.opt.SENSE_MAXIMIZE \n",
    "        zexpr = vexpr\n",
    "    elif obj_mode == 'min_harea':\n",
    "        sense = ws3.opt.SENSE_MINIMIZE \n",
    "        zexpr = '1.'\n",
    "    else:\n",
    "        raise ValueError('Invalid obj_mode: %s' % obj_mode)\n",
    "\n",
    "    # define objective function coefficient function\n",
    "    coeff_funcs['z'] = partial(cmp_c_z, expr=zexpr) \n",
    "    \n",
    "    T = fm.periods\n",
    "    \n",
    "    # define even flow constraint (on harvest volume)\n",
    "    cname = 'cflw_acut'\n",
    "    e = 0.01 # epsilon parameter defining flow constraint tightness\n",
    "    coeff_funcs[cname] = partial(cmp_c_caa, expr='1.', acodes=[harvest_acode], mask=None) \n",
    "    cflw_e[cname] = {t:e for t in T}, 1 # define flow constraint relative to period 1     \n",
    "    \n",
    "    # define even flow constraint (on harvest area)\n",
    "    cname = 'cflw_vcut'\n",
    "    e = 0.01 # epsilon parameter defining flow constraint tightness\n",
    "    coeff_funcs[cname] = partial(cmp_c_caa, expr=vexpr, acodes=[harvest_acode], mask=None) \n",
    "    cflw_e[cname] = {t:e for t in T}, 1 # define flow constraint relative to period 1         \n",
    "    \n",
    "    # define general constraint (growing stock)\n",
    "    cname = 'cgen_gs'\n",
    "    lb, ub = 0., 1000000000000.\n",
    "    coeff_funcs[cname] = partial(cmp_c_ci, yname=tvy_name, mask=None)\n",
    "    cgen_data[cname] = {'lb':{t:lb for t in T}, 'ub':{t:ub for t in T}}\n",
    "    \n",
    "    \n",
    "    return fm.add_problem(name, coeff_funcs, cflw_e, cgen_data=cgen_data, acodes=acodes, sense=sense, mask=mask)\n"
   ]
  },
  {
   "cell_type": "code",
   "execution_count": 75,
   "id": "bbcd66b3-4f50-48d6-8c5a-7b4f0f0f9241",
   "metadata": {
    "tags": []
   },
   "outputs": [],
   "source": [
    "def gen_scen(fm, name='base', util=0.85, harvest_acode='cc', tvy_name='volume', obj_mode='max_hvol', mask=None, **kwargs):    \n",
    "    dsp = {'base':_gen_scen_base}\n",
    "    return dsp[name](fm, name, util, harvest_acode, tvy_name, obj_mode, mask, **kwargs)\n",
    "    #return dsp[name](fm, *args, **kwargs)\n"
   ]
  },
  {
   "cell_type": "code",
   "execution_count": 76,
   "id": "f9b22489-1842-4456-b0f6-43ccc241c9f4",
   "metadata": {
    "tags": []
   },
   "outputs": [],
   "source": [
    "p = gen_scen(fm)"
   ]
  },
  {
   "cell_type": "markdown",
   "id": "e3163648-ec24-4dc9-90f8-8528750a5be4",
   "metadata": {},
   "source": [
    "You will need to have `gurobipy` installed for this next step to work. At some point I will finish implementing bindings to the PuLP open-source solver library, but for now we are stuck with Gurobi as the only solver that works with ws3. \n",
    "\n",
    "You should be able to install `gurobipy` by uncommenting the magic `%pip` command below."
   ]
  },
  {
   "cell_type": "code",
   "execution_count": null,
   "id": "c8eb0967-d1b1-4bf6-a31f-3c150cc8007a",
   "metadata": {},
   "outputs": [],
   "source": [
    "#%pip install gurobi"
   ]
  },
  {
   "cell_type": "code",
   "execution_count": 77,
   "id": "21162ccf-b6b6-465b-a7fb-79b7262e1dd1",
   "metadata": {
    "tags": []
   },
   "outputs": [
    {
     "name": "stdout",
     "output_type": "stream",
     "text": [
      "Gurobi Optimizer version 10.0.1 build v10.0.1rc0 (linux64)\n",
      "\n",
      "CPU model: Intel Xeon Processor (Skylake, IBRS), instruction set [SSE2|AVX|AVX2|AVX512]\n",
      "Thread count: 16 physical cores, 16 logical processors, using up to 16 threads\n",
      "\n",
      "Optimize a model with 84 rows, 799 columns and 23661 nonzeros\n",
      "Model fingerprint: 0x8982db51\n",
      "Coefficient statistics:\n",
      "  Matrix range     [6e-03, 7e+04]\n",
      "  Objective range  [5e+00, 6e+04]\n",
      "  Bounds range     [0e+00, 0e+00]\n",
      "  RHS range        [1e+00, 1e+12]\n",
      "Warning: Model contains large rhs\n",
      "         Consider reformulating model or setting NumericFocus parameter\n",
      "         to avoid numerical issues.\n",
      "Presolve removed 24 rows and 24 columns\n",
      "Presolve time: 0.07s\n",
      "Presolved: 60 rows, 775 columns, 12099 nonzeros\n",
      "\n",
      "Iteration    Objective       Primal Inf.    Dual Inf.      Time\n",
      "       0    3.3053602e+05   1.222714e+04   0.000000e+00      0s\n",
      "     163    2.7995382e+05   0.000000e+00   0.000000e+00      0s\n",
      "\n",
      "Solved in 163 iterations and 0.13 seconds (0.01 work units)\n",
      "Optimal objective  2.799538155e+05\n",
      "foo\n"
     ]
    }
   ],
   "source": [
    "m = p.solve()"
   ]
  },
  {
   "cell_type": "code",
   "execution_count": 78,
   "id": "336038ba-b334-41cc-b5e1-572764e1eec2",
   "metadata": {
    "tags": []
   },
   "outputs": [
    {
     "data": {
      "text/plain": [
       "0.0"
      ]
     },
     "execution_count": 78,
     "metadata": {},
     "output_type": "execute_result"
    }
   ],
   "source": [
    "import gurobipy as grb\n",
    "if m.status != grb.GRB.OPTIMAL:\n",
    "    print('Model not optimal.')\n",
    "    sys.exit()\n",
    "sch = fm.compile_schedule(p)\n",
    "fm.reset_actions()\n",
    "fm.initialize_areas()\n",
    "fm.apply_schedule(sch, \n",
    "                  force_integral_area=True, \n",
    "                  override_operability=True,\n",
    "                  fuzzy_age=True,\n",
    "                  recourse_enabled=True,\n",
    "                  verbose=False,\n",
    "                  compile_c_ycomps=True)"
   ]
  },
  {
   "cell_type": "code",
   "execution_count": 79,
   "id": "ef7bdac1-b278-420f-aade-2a6a2ff48048",
   "metadata": {},
   "outputs": [],
   "source": [
    "pareas = [fm.compile_product(period, '1.') for period in fm.periods]"
   ]
  },
  {
   "cell_type": "code",
   "execution_count": 80,
   "id": "8525acf4-7229-40c0-911f-dd3e312dfa4e",
   "metadata": {},
   "outputs": [],
   "source": [
    "pvols = [fm.compile_product(period, 'volume') for period in fm.periods]"
   ]
  },
  {
   "cell_type": "code",
   "execution_count": 81,
   "id": "f24c5784-bb6e-49d7-af5e-31d428192f02",
   "metadata": {},
   "outputs": [
    {
     "data": {
      "text/html": [
       "<div>\n",
       "<style scoped>\n",
       "    .dataframe tbody tr th:only-of-type {\n",
       "        vertical-align: middle;\n",
       "    }\n",
       "\n",
       "    .dataframe tbody tr th {\n",
       "        vertical-align: top;\n",
       "    }\n",
       "\n",
       "    .dataframe thead th {\n",
       "        text-align: right;\n",
       "    }\n",
       "</style>\n",
       "<table border=\"1\" class=\"dataframe\">\n",
       "  <thead>\n",
       "    <tr style=\"text-align: right;\">\n",
       "      <th></th>\n",
       "      <th>period</th>\n",
       "      <th>areas</th>\n",
       "      <th>vols</th>\n",
       "    </tr>\n",
       "  </thead>\n",
       "  <tbody>\n",
       "    <tr>\n",
       "      <th>0</th>\n",
       "      <td>1</td>\n",
       "      <td>150.4</td>\n",
       "      <td>33060.2</td>\n",
       "    </tr>\n",
       "    <tr>\n",
       "      <th>1</th>\n",
       "      <td>2</td>\n",
       "      <td>149.6</td>\n",
       "      <td>33527.4</td>\n",
       "    </tr>\n",
       "    <tr>\n",
       "      <th>2</th>\n",
       "      <td>3</td>\n",
       "      <td>148.9</td>\n",
       "      <td>33383.3</td>\n",
       "    </tr>\n",
       "    <tr>\n",
       "      <th>3</th>\n",
       "      <td>4</td>\n",
       "      <td>149.0</td>\n",
       "      <td>32822.0</td>\n",
       "    </tr>\n",
       "    <tr>\n",
       "      <th>4</th>\n",
       "      <td>5</td>\n",
       "      <td>150.2</td>\n",
       "      <td>32388.1</td>\n",
       "    </tr>\n",
       "    <tr>\n",
       "      <th>5</th>\n",
       "      <td>6</td>\n",
       "      <td>152.6</td>\n",
       "      <td>33068.6</td>\n",
       "    </tr>\n",
       "    <tr>\n",
       "      <th>6</th>\n",
       "      <td>7</td>\n",
       "      <td>151.1</td>\n",
       "      <td>32557.3</td>\n",
       "    </tr>\n",
       "    <tr>\n",
       "      <th>7</th>\n",
       "      <td>8</td>\n",
       "      <td>152.0</td>\n",
       "      <td>32564.2</td>\n",
       "    </tr>\n",
       "    <tr>\n",
       "      <th>8</th>\n",
       "      <td>9</td>\n",
       "      <td>151.8</td>\n",
       "      <td>32879.2</td>\n",
       "    </tr>\n",
       "    <tr>\n",
       "      <th>9</th>\n",
       "      <td>10</td>\n",
       "      <td>151.3</td>\n",
       "      <td>32410.1</td>\n",
       "    </tr>\n",
       "  </tbody>\n",
       "</table>\n",
       "</div>"
      ],
      "text/plain": [
       "   period  areas     vols\n",
       "0       1  150.4  33060.2\n",
       "1       2  149.6  33527.4\n",
       "2       3  148.9  33383.3\n",
       "3       4  149.0  32822.0\n",
       "4       5  150.2  32388.1\n",
       "5       6  152.6  33068.6\n",
       "6       7  151.1  32557.3\n",
       "7       8  152.0  32564.2\n",
       "8       9  151.8  32879.2\n",
       "9      10  151.3  32410.1"
      ]
     },
     "execution_count": 81,
     "metadata": {},
     "output_type": "execute_result"
    }
   ],
   "source": [
    "df = pd.DataFrame({'period':fm.periods, 'areas':pareas, 'vols':pvols})\n",
    "df"
   ]
  },
  {
   "cell_type": "code",
   "execution_count": 82,
   "id": "33abfe90-86ae-4f1d-b265-a99b699b2df1",
   "metadata": {
    "tags": []
   },
   "outputs": [
    {
     "data": {
      "text/plain": [
       "(0.0, 152.785)"
      ]
     },
     "execution_count": 82,
     "metadata": {},
     "output_type": "execute_result"
    },
    {
     "data": {
      "image/png": "[encoded data removed]",
      "text/plain": [
       "<Figure size 640x480 with 1 Axes>"
      ]
     },
     "metadata": {},
     "output_type": "display_data"
    }
   ],
   "source": [
    "plt.plot(df.period, df.areas)\n",
    "plt.ylim(0, None)"
   ]
  },
  {
   "cell_type": "code",
   "execution_count": 83,
   "id": "3c0f873b-f23f-4e14-812e-b80c1f4aa7d8",
   "metadata": {
    "tags": []
   },
   "outputs": [
    {
     "data": {
      "text/plain": [
       "(0.0, 33584.365)"
      ]
     },
     "execution_count": 83,
     "metadata": {},
     "output_type": "execute_result"
    },
    {
     "data": {
      "image/png": "[encoded data removed]",
      "text/plain": [
       "<Figure size 640x480 with 1 Axes>"
      ]
     },
     "metadata": {},
     "output_type": "display_data"
    }
   ],
   "source": [
    "plt.plot(df.period, df.vols)\n",
    "plt.ylim(0, None)"
   ]
  },
  {
   "cell_type": "markdown",
   "id": "19fb2ee1-11bf-4da0-a5c0-e588637fdfbf",
   "metadata": {},
   "source": [
    "# Notes and such"
   ]
  },
  {
   "cell_type": "markdown",
   "id": "88de9cb5-0265-453e-87ee-be34a8ca2ead",
   "metadata": {},
   "source": [
    "Old code from spades_ws3 below, for reference (to not execute this)."
   ]
  },
  {
   "cell_type": "raw",
   "id": "d068bfa7-f826-40a2-86ca-8331486006ab",
   "metadata": {},
   "source": [
    "def __gen_scen_base(fm, param_funcs, name='base', util=0.85, param_funcs=None, harvest_acode='harvest',  \n",
    "                   tvy_name='totvol', toffset=0, obj_mode='max_hvol', target_path='./input/targets.csv',\n",
    "                   max_tp=2074, cacut=None, mask=None):\n",
    "    from functools import partial\n",
    "    acodes = ['null', harvest_acode]  \n",
    "    vexpr = '%s * %0.2f' % (tvy_name, util)\n",
    "    if obj_mode == 'max_hvol':\n",
    "        sense = ws3.opt.SENSE_MAXIMIZE \n",
    "        zexpr = vexpr\n",
    "    elif obj_mode == 'min_harea':\n",
    "        sense = ws3.opt.SENSE_MINIMIZE \n",
    "        zexpr = '1.'\n",
    "    else:\n",
    "        raise ValueError('Invalid obj_mode: %s' % obj_mode)\n",
    "        \n",
    "    # if not param_funcs:\n",
    "    #     df_targets = pd.read_csv(target_path).set_index(['tsa', 'year'])\n",
    "    #     param_funcs = {}\n",
    "    #     param_funcs['cvcut'] = lambda bn, t: float(df_targets.loc[bn, t]['vcut']) if t <= max_tp else float(df_targets.loc[bn, max_tp]['vcut'])\n",
    "    #     param_funcs['cabrn'] = lambda bn, t: float(df_targets.loc[bn, t]['abrn']) if t <= max_tp else float(df_targets.loc[bn, max_tp]['abrn'])\n",
    "    #     param_funcs['cflw_acut_e'] = lambda bn, t: df_targets.loc[bn, t]['cflw_acut_e'] if t <= max_tp else df_targets.loc[bn, max_tp]['cflw_acut_e']\n",
    "    #     param_funcs['cgen_vcut_e'] = lambda bn, t: df_targets.loc[bn, t]['cgen_vcut_e'] if t <= max_tp else df_targets.loc[bn, max_tp]['cgen_vcut_e']\n",
    "    #     param_funcs['cgen_acut_e'] = lambda bn, t: df_targets.loc[bn, t]['cgen_vcut_e'] if t <= max_tp else df_targets.loc[bn, max_tp]['cgen_vcut_e']\n",
    "    #     param_funcs['cgen_abrn_e'] = lambda bn, t: df_targets.loc[bn, t]['cgen_abrn_e'] if t <= max_tp else df_targets.loc[bn, max_tp]['cgen_abrn_e']\n",
    "    coeff_funcs = {'z':partial(cmp_c_z, expr=zexpr)}\n",
    "    coeff_funcs.update({'cacut_%s' % bn:partial(cmp_c_caa, expr='1.', acodes=[harvest_acode], mask=(bn, '?', '?', '?')) \n",
    "                        for bn in basenames})\n",
    "    coeff_funcs.update({'cvcut_%s' % bn:partial(cmp_c_caa, expr=vexpr, acodes=[harvest_acode], mask=(bn, '?', '?', '?')) \n",
    "                        for bn in basenames})\n",
    "    T = fm.periods# [fm.base_year+(t-1)*fm.period_length for t in fm.periods]\n",
    "    cflw_e, cgen_data = {}, {}\n",
    "    #foo = {bn:{t:(bn, t+toffset) for t in T} for bn in basenames}\n",
    "    #print(T)\n",
    "    #assert False\n",
    "    #cflw_ebn = {bn:({t:param_funcs['cflw_acut_e'](bn, fm.base_year+(t-1)*fm.period_length+toffset) for t in T}, 1) for bn in basenames}\n",
    "    #cflw_e.update({'cacut_%s'%bn:cflw_ebn[bn] for bn in basenames})\n",
    "    for bn in basenames:\n",
    "        #print(df_targets.loc[bn])\n",
    "        cgen_data.update({'cvcut_%s' % bn:{'lb':{t:param_funcs['cvcut'](bn, fm.base_year+(t-1)*fm.period_length+toffset) *\n",
    "                                                 (1. - param_funcs['cgen_vcut_e'](bn, fm.base_year+(t-1)*fm.period_length+toffset))\n",
    "                                               for t in T}, \n",
    "                                         'ub':{t:param_funcs['cvcut'](bn, fm.base_year+(t-1)*fm.period_length+toffset) for t in T}}})\n",
    "        if cacut:\n",
    "            cgen_data.update({'cacut_%s' % bn:{'lb':{t:param_funcs['cacut'](bn, fm.base_year+(t-1)*fm.period_length)*\n",
    "                                                   (1. - param_funcs['cgen_acut_e'](bn, fm.base_year+(t-1)*fm.period_length)) for t in T}, \n",
    "                                             'ub':{t:param_funcs['cacut'](bn, fm.base_year+(t-1)*fm.period_length) for t in T}}})\n",
    "    #print(cflw_e)\n",
    "    fm._tmp = {}\n",
    "    fm._tmp['param_funcs'] = param_funcs\n",
    "    fm._tmp['cgen_data'] = cgen_data\n",
    "    return fm.add_problem(name, coeff_funcs, cflw_e, cgen_data=cgen_data, acodes=acodes, sense=sense, mask=mask)\n",
    "\n",
    "\n",
    "def gen_scen(fm, basenames, name, util, param_funcs, toffset=0, obj_mode='max_hvol', cacut=None, mask=None, target_path='./input/targets.csv'):\n",
    "    dsp = {'base':_gen_scen_base}\n",
    "    return dsp[name](fm, basenames, name, util, param_funcs=param_funcs, toffset=toffset, obj_mode=obj_mode, cacut=cacut, mask=mask, target_path=target_path)\n"
   ]
  },
  {
   "cell_type": "code",
   "execution_count": null,
   "id": "ec48bfc3-165d-4197-90ad-65ccc6b99cdd",
   "metadata": {},
   "outputs": [],
   "source": []
  }
 ],
 "metadata": {
  "kernelspec": {
   "display_name": "Python 3 (ipykernel)",
   "language": "python",
   "name": "python3"
  },
  "language_info": {
   "codemirror_mode": {
    "name": "ipython",
    "version": 3
   },
   "file_extension": ".py",
   "mimetype": "text/x-python",
   "name": "python",
   "nbconvert_exporter": "python",
   "pygments_lexer": "ipython3",
   "version": "3.10.6"
  }
 },
 "nbformat": 4,
 "nbformat_minor": 5
}
