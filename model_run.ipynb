{
 "cells": [
  {
   "cell_type": "markdown",
   "id": "ab0b3d94-f3e2-42b0-9d8e-ae85eae75afc",
   "metadata": {
    "tags": []
   },
   "source": [
    "## Note on `git` and `ws3` embedded as submodule.\n",
    "\n",
    "I am tracking this notebook-based project on GitHub, and have embedded the ws3 as a submodule. The following code pulls ws3 code from the cloud."
   ]
  },
  {
   "cell_type": "code",
   "execution_count": 1,
   "id": "3ad0d73b-9a52-4fd2-8996-8fb53c6bf07a",
   "metadata": {
    "tags": []
   },
   "outputs": [],
   "source": [
    "!git submodule init\n",
    "!git submodule update"
   ]
  },
  {
   "cell_type": "markdown",
   "id": "16d42fd7-6084-418a-a344-04214e56979a",
   "metadata": {},
   "source": [
    "The following is a hack to force this notebook to use the local `ws3` submodule code."
   ]
  },
  {
   "cell_type": "code",
   "execution_count": 2,
   "id": "6a464b45-7f41-4999-98fe-cdf84a361921",
   "metadata": {
    "tags": []
   },
   "outputs": [],
   "source": [
    "import os\n",
    "import sys\n",
    "module_path = os.path.abspath(os.path.join('ws3'))\n",
    "if module_path not in sys.path:\n",
    "    sys.path.append(module_path)\n",
    "#sys.path"
   ]
  },
  {
   "cell_type": "markdown",
   "id": "328ca48c-19e6-4e91-94c8-8565fbac96f9",
   "metadata": {
    "tags": []
   },
   "source": [
    "## Preamble\n",
    "\n",
    "Import modules, define classes and functions and constants, etc."
   ]
  },
  {
   "cell_type": "code",
   "execution_count": 3,
   "id": "1b956ab7-5bca-4d4a-a24e-7748f5c36622",
   "metadata": {
    "tags": []
   },
   "outputs": [],
   "source": [
    "%load_ext autoreload\n",
    "%autoreload 2"
   ]
  },
  {
   "cell_type": "code",
   "execution_count": 4,
   "id": "cae1c034-1849-4efb-9a88-dc8b3cd83a2c",
   "metadata": {
    "tags": []
   },
   "outputs": [],
   "source": [
    "import ws3.forest, ws3.core\n",
    "import gurobipy as grb\n",
    "\n",
    "import matplotlib.pyplot as plt\n",
    "import pandas as pd"
   ]
  },
  {
   "cell_type": "code",
   "execution_count": 5,
   "id": "ab4bd279-bfba-48c4-811e-5a1a4234e4a5",
   "metadata": {
    "tags": []
   },
   "outputs": [],
   "source": [
    "data_path = 'data/input'\n",
    "period_length = 10\n",
    "max_age = 500\n",
    "base_year = 2020\n",
    "horizon = 10\n",
    "model_name = 'tsa24_clipped'\n",
    "harvest_acode = 'cc'"
   ]
  },
  {
   "cell_type": "markdown",
   "id": "e9e3564b-a6b3-4809-906c-78dcd0ab8f58",
   "metadata": {},
   "source": [
    "# Create a new `ForestModel` instance"
   ]
  },
  {
   "cell_type": "code",
   "execution_count": 6,
   "id": "94b0041e-5d73-4057-975b-24c38d75fba5",
   "metadata": {
    "tags": []
   },
   "outputs": [],
   "source": [
    "fm = ws3.forest.ForestModel(model_name=model_name,\n",
    "                            model_path=data_path,\n",
    "                            base_year=base_year,\n",
    "                            horizon=horizon,\n",
    "                            period_length=period_length,\n",
    "                            max_age=max_age)"
   ]
  },
  {
   "cell_type": "code",
   "execution_count": 7,
   "id": "b0958e12-f69d-49da-b8cb-cd3dd0748164",
   "metadata": {
    "tags": []
   },
   "outputs": [],
   "source": [
    "fm.import_landscape_section()"
   ]
  },
  {
   "cell_type": "code",
   "execution_count": 8,
   "id": "1e0ed8d8-b355-4f4f-84bd-98f43d493aad",
   "metadata": {
    "tags": []
   },
   "outputs": [
    {
     "data": {
      "text/plain": [
       "0"
      ]
     },
     "execution_count": 8,
     "metadata": {},
     "output_type": "execute_result"
    }
   ],
   "source": [
    "fm.import_areas_section()"
   ]
  },
  {
   "cell_type": "code",
   "execution_count": 9,
   "id": "035233f0-be6f-433a-b9ec-8166fbb202f3",
   "metadata": {
    "tags": []
   },
   "outputs": [],
   "source": [
    "fm.import_yields_section()"
   ]
  },
  {
   "cell_type": "markdown",
   "id": "67b3ae10-62ec-4a3e-a68d-d62bbfa02ad0",
   "metadata": {},
   "source": [
    "Note that we have to manually flag the `cc` action as a harvest action (or it will not pass the `is_harvest` gate in `cmp_c_z` when building the optimization model (and there will be no harvest volume to optimize, etc). Currently no way to do this automatically in the `import_actions_section` method, but will try to include something later to avoid having to remember to do this. "
   ]
  },
  {
   "cell_type": "code",
   "execution_count": 10,
   "id": "77c6eb05-d6cf-4b28-9dd5-6b96d517aabd",
   "metadata": {
    "tags": []
   },
   "outputs": [],
   "source": [
    "fm.import_actions_section()\n",
    "fm.actions[harvest_acode].is_harvest = True"
   ]
  },
  {
   "cell_type": "markdown",
   "id": "a3f748db-f77c-490c-a715-5c121a05cc16",
   "metadata": {},
   "source": [
    "Add a \"null\" action (does nothing). Needed for optimization functions to work. Sort of an obscure design, but that is the way ws3 is implemented for the moment so just roll with it."
   ]
  },
  {
   "cell_type": "code",
   "execution_count": 11,
   "id": "ea25209f-8270-4bc6-8f8a-b018953a4dfd",
   "metadata": {
    "tags": []
   },
   "outputs": [],
   "source": [
    "fm.add_null_action()"
   ]
  },
  {
   "cell_type": "code",
   "execution_count": 12,
   "id": "16e94b98-1030-4060-b796-265742343828",
   "metadata": {
    "tags": []
   },
   "outputs": [],
   "source": [
    "fm.import_transitions_section()"
   ]
  },
  {
   "cell_type": "code",
   "execution_count": 13,
   "id": "956b5c8e-6ad4-43ca-babe-22f04d7d4889",
   "metadata": {
    "tags": []
   },
   "outputs": [],
   "source": [
    "fm.compile_actions()"
   ]
  },
  {
   "cell_type": "code",
   "execution_count": 14,
   "id": "2277313e-3986-422f-b97a-0b82c618bbc7",
   "metadata": {
    "tags": []
   },
   "outputs": [],
   "source": [
    "fm.initialize_areas()\n",
    "fm.reset_actions()"
   ]
  },
  {
   "cell_type": "markdown",
   "id": "78d007d4-22d7-43e8-b814-31d85e22a28a",
   "metadata": {},
   "source": [
    "# Define scenario (add optimization problems)"
   ]
  },
  {
   "cell_type": "markdown",
   "id": "d392c7f8-6812-4fd4-821f-7d331b1964d9",
   "metadata": {},
   "source": [
    "First we need to define a few utility functions that we will use to build the problems (e.g., objective function coefficient function, even flow constraint coefficient function, general constraint coefficient function).\n",
    "\n",
    "Note that the `spades_ws3` project contains several useful chunks of code that you can use as a starting point (on GitHub, see link below).\n",
    "\n",
    "https://github.com/gparadis/spades_ws3/blob/master/python/spadesws3.py"
   ]
  },
  {
   "cell_type": "code",
   "execution_count": 15,
   "id": "a4dfbd31-ebe4-46e0-b4cd-1d768cb0f991",
   "metadata": {
    "tags": []
   },
   "outputs": [],
   "source": [
    "def cmp_c_z(fm, path, expr):\n",
    "    \"\"\"\n",
    "    Compile objective function coefficient (given ForestModel instance, \n",
    "    leaf-to-root-node path, and expression to evaluate).\n",
    "    \"\"\"\n",
    "    result = 0.\n",
    "    for t, n in enumerate(path, start=1):\n",
    "        d = n.data()\n",
    "        if fm.is_harvest(d['acode']):\n",
    "            result += fm.compile_product(t, expr, d['acode'], [d['dtk']], d['age'], coeff=False)\n",
    "    return result\n",
    "\n",
    "def cmp_c_cflw(fm, path, expr, mask=None): # product, all harvest actions\n",
    "    \"\"\"\n",
    "    Compile flow constraint coefficient for product indicator (given ForestModel \n",
    "    instance, leaf-to-root-node path, expression to evaluate, and optional mask).\n",
    "    \"\"\"\n",
    "    result = {}\n",
    "    for t, n in enumerate(path, start=1):\n",
    "        d = n.data()\n",
    "        if mask and not fm.match_mask(mask, d['dtk']): continue\n",
    "        if fm.is_harvest(d['acode']):\n",
    "            result[t] = fm.compile_product(t, expr, d['acode'], [d['dtk']], d['age'], coeff=False)\n",
    "    return result\n",
    "\n",
    "\n",
    "def cmp_c_caa(fm, path, expr, acodes, mask=None): # product, named actions\n",
    "    \"\"\"\n",
    "    Compile constraint coefficient for product indicator (given ForestModel \n",
    "    instance, leaf-to-root-node path, expression to evaluate, list of action codes, \n",
    "    and optional mask).\n",
    "    \"\"\"\n",
    "    result = {}\n",
    "    for t, n in enumerate(path, start=1):\n",
    "        d = n.data()\n",
    "        if mask and not fm.match_mask(mask, d['dtk']): continue\n",
    "        if d['acode'] in acodes:\n",
    "            result[t] = fm.compile_product(t, expr, d['acode'], [d['dtk']], d['age'], coeff=False)\n",
    "    return result\n",
    "\n",
    "\n",
    "def cmp_c_ci(fm, path, yname, mask=None): # product, named actions\n",
    "    \"\"\"\n",
    "    Compile constraint coefficient for inventory indicator (given ForestModel instance, \n",
    "    leaf-to-root-node path, expression to evaluate, and optional mask).\n",
    "    \"\"\"\n",
    "    result = {}\n",
    "    for t, n in enumerate(path, start=1):\n",
    "        d = n.data()\n",
    "        if mask and not fm.match_mask(mask, d['_dtk']): continue\n",
    "        result[t] = fm.inventory(t, yname=yname, age=d['_age'], dtype_keys=[d['_dtk']]) \n",
    "        #result[t] = fm.inventory(t, yname=yname, age=d['age'], dtype_keys=[d['dtk']]) \n",
    "    return result"
   ]
  },
  {
   "cell_type": "markdown",
   "id": "1f5f6bbe-4ab5-4e96-bb35-70a415b8a171",
   "metadata": {},
   "source": [
    "Define a generic base scenario function, and link it to a dispatch function keyed on scenario name string (e.g., `base`). \n",
    "\n",
    "Note how we use `functools.partial` to specialize the more general functions defined above for use in the `coeff_funcs` arg of `ForestModel.add_problem`. Otherwise we would have to define an entirely new function each time we defined a slightly different objective or constraint in one of our scenarios, which would get tedious and messy. The tedium and mess would be more evident if we had a large number of alternative scenarios defined in the same notebook (which we do not here, but use your imagination). \n",
    "\n",
    "Note also that the expected data structures for the various args to `ForestModel.add_problem` must be matched exactly or `ws3` will likely crash somewhere in one of the series of complicated private optimization model-building methods that get called from `ForestModel.add_problem`. You _should not_ have to unpack the exact logic of this model-building code to figure out why your model is crashing... it really is quite complicated and hard to follow. If you model is crashing there, you probably fed invalid (or incorrectly structured) args to `ForestModel.add_problem`. Carefully review the structure and values of your args to find the problem. I left some notes below (and some comments in the `_gen_scen_base` function code) to help clarify the expected arg structure, and will work on expanding the docstrings in the `ws3` source code so this is less obscure going forward.\n",
    "\n",
    "I also had to patch the `ws3` code in two places so that it would \"grow\" correctly with the model set up to use _years_ as the age unit. For some reason the latest `dev` branch of `ws3` on GitHub was in some sort of intermediate state between using _periods_ and _years_ as the age unit. Originally `ws3` was implemented to import and simulate legacy Woodstock model input datasets, so it used _periods_ as the age unit (like Woodstock). At some point I think I hastily patched `ws3` to use _years_ as the age unit to make it work with `spades_ws3` for specific projects that needed to get done and delivered... if I recall we set the period length to 1 year for all those projects so it \"just worked\", but now we have a bit of a mess. Oops. Ultimately, I will need to revert `ws3` back to using Woodstock-compatible _period_ age unit (but make sure that the `spatial` module can still spatially and temporally disaggregate the aspatial periodic solutions from the Model I LP optimization problems into year-length time slices (maybe with age optionally expressed in years in output from this, for compatibility with downstream linked models like `SpaDES`). This is just a side-effect of many iterations of re-purposing `ws3` to work in a long (ad hoc) sequence of real research projects that had very specific input and output data specs. It is actually remarkable that `ws3` is not _more_ of a mess than it currently is, given the history and essentially null development budget. Use"
   ]
  },
  {
   "cell_type": "markdown",
   "id": "ba969b1b-1b62-4253-b517-ce37e3eb47de",
   "metadata": {},
   "source": [
    "`ForestModel.add_problem` arg specs are described below.\n",
    "\n",
    "`name`: String. Used as key to store `Problem` instances in a dict in the `ForestModel` instanace, so make sure it is unique within a given model or you will overwrite dict values (assuming you want to stuff multiple problems, and their solutions, into your model at the same time). \n",
    "    \n",
    "`coeff_funcs`: Dict of function references, keyed on _row name_ strings. These are the functions that generate the LP optimization problem matrix coefficients (for the objective function and constraint rows). This one gets complicated, and is a likely source of bugs. Make sure the row name key strings are all unique or you will make a mess. You can name the constraint rows anything you want, but the objective function row has to be named `z`. All coefficient functions must accept exactly two args, in this order: a `ws3.forest.ForestModel` instance and a `ws3.common.Path` instance. The `z` coefficient function is special in that it must return a single float value. All other (i.e., constraint) coefficient functions just return a dict of floats, keyed on period ints (can be sparse, i.e., not necessary to include key:value pairs in output dict if value is 0.0). It is useful (but not necessary) to use `functools.partial` to specialize a smaller number of more general function definitions (with more args, that get \"locked down\" and hidden by `partial`) as we have done in the example in this notebook.\n",
    "\n",
    "`cflw_e`: Dict of `(dict, int)` tuples, keyed on _row name_ strings (must match _row name_ key values used to define coefficient functions for flow constraints in `coeff_func` dict), where the int:float dict embedded in the tuple defines epsilon values keyed on periods (must include all periods, even if epsilon value is always the same). See example below. \n",
    "\n",
    "```\n",
    "{\n",
    "  'cflw_acut':({1:0.01, 2:0.01, ..., 10:0.01}, 1),\n",
    "  'cflw_vcut':({1:0.05, 2:0.05, ..., 10:0.05}, 1)\n",
    "}\n",
    "```\n",
    "\n",
    "`cgen_data`: Dict of dict of dicts. The outer-level dict is keyed on _row name_ strings (must match row names used in `coeff_funcs`. The middle second level of dicts always has keys `'lb'` and `'ub'`, and the inner level of dicts specifies lower- and upper-bound general constraint RHS (float) values, keyed on period (int).\n",
    "\n",
    "`acodes`: List of strings. Action codes to be included in optimization problem formulation (actions must defined in the `ForestModel` instance, but can be only a subset).\n",
    "\n",
    "`sense`: Must be one of `ws3.opt.SENSE_MAXIMIZE` or `ws3.opt.SENSE_MINIMIZE`.\n",
    "\n",
    "`mask`: Tuple of strings constituting a valid mask for your `ForestModel` instance. Can be `None` if you do not want to filter `DevelopmentType` instances."
   ]
  },
  {
   "cell_type": "code",
   "execution_count": 16,
   "id": "93b81c76-47e0-4ca8-8525-4cced1c06934",
   "metadata": {
    "tags": []
   },
   "outputs": [],
   "source": [
    "def gen_scenario(fm, name='base', util=0.85, harvest_acode='cc', fert_acodes=[],\n",
    "                 cflw_ha={}, cflw_hv={}, \n",
    "                 cgen_gs={}, cgen_ha={}, cgen_hv={}, cgen_fa={},\n",
    "                 tvy_name='volume', obj_mode='max_hv', mask=None):\n",
    "    from functools import partial\n",
    "    import numpy as np\n",
    "    coeff_funcs = {}\n",
    "    cflw_e = {}\n",
    "    cgen_data = {}\n",
    "    acodes = ['null', harvest_acode] + fert_acodes # define list of action codes\n",
    "    vexpr = '%s * %0.2f' % (tvy_name, util) # define volume expression\n",
    "    if obj_mode == 'max_hv': # maximize harvest volume\n",
    "        sense = ws3.opt.SENSE_MAXIMIZE \n",
    "        zexpr = vexpr\n",
    "    elif obj_mode == 'min_ha': # minimize harvest area\n",
    "        sense = ws3.opt.SENSE_MINIMIZE \n",
    "        zexpr = '1.'\n",
    "    else:\n",
    "        raise ValueError('Invalid obj_mode: %s' % obj_mode)        \n",
    "    coeff_funcs['z'] = partial(cmp_c_z, expr=zexpr) # define objective function coefficient function  \n",
    "    T = fm.periods\n",
    "    if cflw_ha: # define even flow constraint (on harvest area)\n",
    "        cname = 'cflw_ha'\n",
    "        coeff_funcs[cname] = partial(cmp_c_caa, expr='1.', acodes=[harvest_acode], mask=None) \n",
    "        cflw_e[cname] = cflw_ha\n",
    "    if cflw_hv: # define even flow constraint (on harvest volume)\n",
    "        cname = 'cflw_hv'\n",
    "        coeff_funcs[cname] = partial(cmp_c_caa, expr=vexpr, acodes=[harvest_acode], mask=None) \n",
    "        cflw_e[cname] = cflw_hv         \n",
    "    if cgen_gs: # define general constraint (growing stock)\n",
    "        cname = 'cgen_gs'\n",
    "        coeff_funcs[cname] = partial(cmp_c_ci, yname=tvy_name, mask=None)\n",
    "        cgen_data[cname] = cgen_gs\n",
    "    if cgen_ha: # define general constraint (harvest area)\n",
    "        cname = 'cgen_ha'\n",
    "        coeff_funcs[cname] = partial(cmp_c_caa, expr='1.', acodes=[harvest_acode], mask=None) \n",
    "        cgen_data[cname] = cgen_ha\n",
    "    if cgen_hv: # define general constraint (harvest volume)\n",
    "        cname = 'cgen_hv'\n",
    "        coeff_funcs[cname] = partial(cmp_c_caa, expr=vexpr, acodes=[harvest_acode], mask=None) \n",
    "        cgen_data[cname] = cgen_hv\n",
    "    if cgen_fa: # define general constraint (fertilized area)\n",
    "        cname = 'cgen_fa'\n",
    "        coeff_funcs[cname] = partial(cmp_c_caa, expr='1.', acodes=fert_acodes, mask=None) \n",
    "        cgen_data[cname] = cgen_fa\n",
    "    return fm.add_problem(name, coeff_funcs, cflw_e, cgen_data=cgen_data, acodes=acodes, sense=sense, mask=mask)"
   ]
  },
  {
   "cell_type": "markdown",
   "id": "65617f05-bcbe-4c2d-afca-a5df3525fe13",
   "metadata": {},
   "source": [
    "Define functions to compile scenario output into a dataframe, and plot this data."
   ]
  },
  {
   "cell_type": "code",
   "execution_count": 17,
   "id": "b4fb43b6-9787-4584-b157-f0184bda732b",
   "metadata": {
    "tags": []
   },
   "outputs": [],
   "source": [
    "def compile_scenario(fm):\n",
    "    oha = [fm.compile_product(period, '1.', acode='cc') for period in fm.periods]\n",
    "    ohv = [fm.compile_product(period, 'volume * 0.85', acode='cc') for period in fm.periods]\n",
    "    ogs = [fm.inventory(period, 'volume') for period in fm.periods]\n",
    "    ofa11 = [fm.compile_product(period, '1.', acode='f11') for period in fm.periods] \n",
    "    ofa12 = [fm.compile_product(period, '1.', acode='f12') for period in fm.periods] \n",
    "    ofa13 = [fm.compile_product(period, '1.', acode='f13') for period in fm.periods] \n",
    "    ofa14 = [fm.compile_product(period, '1.', acode='f14') for period in fm.periods] \n",
    "    ofa15 = [fm.compile_product(period, '1.', acode='f15') for period in fm.periods] \n",
    "    ofa16 = [fm.compile_product(period, '1.', acode='f16') for period in fm.periods] \n",
    "    ofa17 = [fm.compile_product(period, '1.', acode='f17') for period in fm.periods] \n",
    "    ofa21 = [fm.compile_product(period, '1.', acode='f21') for period in fm.periods] \n",
    "    ofa22 = [fm.compile_product(period, '1.', acode='f22') for period in fm.periods] \n",
    "    ofa23 = [fm.compile_product(period, '1.', acode='f23') for period in fm.periods] \n",
    "    ofa24 = [fm.compile_product(period, '1.', acode='f24') for period in fm.periods] \n",
    "    ofa25 = [fm.compile_product(period, '1.', acode='f25') for period in fm.periods] \n",
    "    ofa26 = [fm.compile_product(period, '1.', acode='f26') for period in fm.periods] \n",
    "    ofa31 = [fm.compile_product(period, '1.', acode='f31') for period in fm.periods] \n",
    "    ofa32 = [fm.compile_product(period, '1.', acode='f32') for period in fm.periods] \n",
    "    ofa33 = [fm.compile_product(period, '1.', acode='f33') for period in fm.periods] \n",
    "    ofa34 = [fm.compile_product(period, '1.', acode='f34') for period in fm.periods] \n",
    "    ofa35 = [fm.compile_product(period, '1.', acode='f35') for period in fm.periods]\n",
    "    data = {'period':fm.periods, \n",
    "            'oha':oha, \n",
    "            'ohv':ohv, \n",
    "            'ogs':ogs, \n",
    "            'ofa11':ofa11, \n",
    "            'ofa12':ofa12, \n",
    "            'ofa13':ofa13, \n",
    "            'ofa14':ofa14, \n",
    "            'ofa15':ofa15, \n",
    "            'ofa16':ofa16, \n",
    "            'ofa17':ofa17, \n",
    "            'ofa21':ofa21, \n",
    "            'ofa22':ofa22, \n",
    "            'ofa23':ofa23, \n",
    "            'ofa24':ofa24, \n",
    "            'ofa25':ofa25, \n",
    "            'ofa26':ofa26, \n",
    "            'ofa31':ofa31, \n",
    "            'ofa32':ofa32, \n",
    "            'ofa33':ofa33, \n",
    "            'ofa34':ofa34, \n",
    "            'ofa35':ofa35}\n",
    "    df = pd.DataFrame(data)\n",
    "    return df"
   ]
  },
  {
   "cell_type": "code",
   "execution_count": 18,
   "id": "ef7bdac1-b278-420f-aade-2a6a2ff48048",
   "metadata": {
    "tags": []
   },
   "outputs": [],
   "source": [
    "def plot_scenario(df):\n",
    "    fig, ax = plt.subplots(1, 4, figsize=(16, 4))\n",
    "    ax[0].bar(df.period, df.oha)\n",
    "    ax[0].set_ylim(0, None)\n",
    "    ax[0].set_title('Harvested area (ha)')\n",
    "    ax[1].bar(df.period, df.ohv)\n",
    "    ax[1].set_ylim(0, None)\n",
    "    ax[1].set_title('Harvested volume (m3)')\n",
    "    ax[2].bar(df.period, df.ogs)\n",
    "    ax[2].set_ylim(0, None)\n",
    "    ax[2].set_title('Growing Stock (m3)')\n",
    "    ax[3].bar(df.period, df.ofa11)\n",
    "    ax[3].bar(df.period, df.ofa12)\n",
    "    ax[3].bar(df.period, df.ofa13)\n",
    "    ax[3].bar(df.period, df.ofa14)\n",
    "    ax[3].bar(df.period, df.ofa15)\n",
    "    ax[3].bar(df.period, df.ofa16)\n",
    "    ax[3].bar(df.period, df.ofa17)\n",
    "    ax[3].bar(df.period, df.ofa21)\n",
    "    ax[3].bar(df.period, df.ofa22)\n",
    "    ax[3].bar(df.period, df.ofa23)\n",
    "    ax[3].bar(df.period, df.ofa24)\n",
    "    ax[3].bar(df.period, df.ofa25)\n",
    "    ax[3].bar(df.period, df.ofa26)\n",
    "    ax[3].bar(df.period, df.ofa31)\n",
    "    ax[3].bar(df.period, df.ofa32)\n",
    "    ax[3].bar(df.period, df.ofa33)\n",
    "    ax[3].bar(df.period, df.ofa34)\n",
    "    ax[3].bar(df.period, df.ofa35)\n",
    "    #ax[3].legend(fert_acodes)\n",
    "    ax[3].set_ylim(0, None)\n",
    "    ax[3].set_title('Fertilized Area (ha)')\n",
    "    return fig, ax"
   ]
  },
  {
   "cell_type": "markdown",
   "id": "c508f3a3-9e1c-48f3-892e-85fe04fc6b7a",
   "metadata": {
    "tags": []
   },
   "source": [
    "## Run scenarios"
   ]
  },
  {
   "cell_type": "markdown",
   "id": "747614a4-3cae-46f7-b146-6255faf66002",
   "metadata": {},
   "source": [
    "We define some scenario options below. Specify which scenario by setting the `scenario_name` variable below."
   ]
  },
  {
   "cell_type": "code",
   "execution_count": 19,
   "id": "d3d78ee1-217e-44d0-86be-f2d990345c03",
   "metadata": {
    "tags": []
   },
   "outputs": [],
   "source": [
    "scenario_name = 'base'\n",
    "#scenario_name = 'fert_once'\n",
    "#scenario_name = 'fert_twice'\n",
    "#scenario_name = 'fert_thrice'\n",
    "#scenario_name = 'fert_age10'\n",
    "#scenario_name = 'fert_age20'\n",
    "#scenario_name = 'fert_age30'\n",
    "#scenario_name = 'fert_age40'\n",
    "#scenario_name = 'fert_age50'\n",
    "#scenario_name = 'fert_age60'\n",
    "#scenario_name = 'fert_age70'\n"
   ]
  },
  {
   "cell_type": "code",
   "execution_count": 20,
   "id": "f9b22489-1842-4456-b0f6-43ccc241c9f4",
   "metadata": {
    "tags": []
   },
   "outputs": [],
   "source": [
    "cflw_ha = {}\n",
    "cflw_hv = {}\n",
    "cgen_gs = {}\n",
    "cgen_ha = {}\n",
    "cgen_hv = {}\n",
    "cgen_fa = {}\n",
    "fert_acodes = []\n",
    "\n",
    "# define growing stock general constraints\n",
    "#cgen_gs = {'lb':{9:35000.}, 'ub':{9:35001.}}    \n",
    "#cgen_gs = {'lb':{p:20000. for p in fm.periods}, 'ub':{p:1000000. for p in fm.periods}}    \n",
    "\n",
    "# define harvest area and harvest volume flow constraints\n",
    "cflw_ha = ({p:0.05 for p in fm.periods}, 1)\n",
    "cflw_hv = ({p:0.05 for p in fm.periods}, 1)\n",
    "\n",
    "# define harvest area and harvest volume general constraints\n",
    "#cgen_ha = {'lb':{1:10.}, 'ub':{1:11.}}    \n",
    "#cgen_hv = {'lb':{1:20000.}, 'ub':{1:20001.}}    \n",
    "\n",
    "# define fertilized area general constraints\n",
    "#cgen_fa = {'lb':None, 'ub':{p:10. for p in fm.periods}}    \n",
    "\n",
    "\n",
    "if scenario_name == 'base': \n",
    "    # Base scenario\n",
    "    fert_acodes = []\n",
    "elif scenario_name == 'fert_once': \n",
    "    # Base scenario, plus one-application fertilization actions\n",
    "    fert_acodes=['f11', 'f12', 'f13', 'f14', 'f15', 'f16', 'f17']\n",
    "elif scenario_name == 'fert_twice': \n",
    "    # Base scenario, plus two-application fertilization actions\n",
    "    fert_acodes=['f21', 'f22', 'f23', 'f24', 'f25', 'f26']\n",
    "elif scenario_name == 'fert_thrice': \n",
    "    # Base scenario, plus three-application fertilization actions\n",
    "    fert_acodes=['f31', 'f32', 'f33', 'f34', 'f35']\n",
    "elif scenario_name == 'fert_age10': \n",
    "    # Base scenario, plus age-10 fertilization actions\n",
    "    fert_acodes=['f11', 'f21', 'f31']\n",
    "elif scenario_name == 'fert_age20': \n",
    "    # Base scenario, plus age-20 fertilization actions\n",
    "    fert_acodes=['f12', 'f22', 'f32']\n",
    "elif scenario_name == 'fert_age30': \n",
    "    # Base scenario, plus age-30 fertilization actions\n",
    "    fert_acodes=['f13', 'f23', 'f33']\n",
    "elif scenario_name == 'fert_age40': \n",
    "    # Base scenario, plus age-40 fertilization actions\n",
    "    fert_acodes=['f14', 'f24', 'f34']\n",
    "elif scenario_name == 'fert_age50': \n",
    "    # Base scenario, plus age-50 fertilization actions\n",
    "    fert_acodes=['f15', 'f25', 'f35']\n",
    "elif scenario_name == 'fert_age60': \n",
    "    # Base scenario, plus age-60 fertilization actions\n",
    "    fert_acodes=['f16', 'f26']\n",
    "elif scenario_name == 'fert_age70': \n",
    "    # Base scenario, plus age-70 fertilization actions\n",
    "    fert_acodes=['f17']\n",
    "    \n",
    "p = gen_scenario(fm=fm, \n",
    "                 name=scenario_name, \n",
    "                 fert_acodes=fert_acodes, \n",
    "                 cflw_ha=cflw_ha, \n",
    "                 cflw_hv=cflw_hv,\n",
    "                 cgen_gs=cgen_gs,\n",
    "                 cgen_ha=cgen_ha,\n",
    "                 cgen_hv=cgen_hv,\n",
    "                 cgen_fa=cgen_fa)\n"
   ]
  },
  {
   "cell_type": "markdown",
   "id": "0f156a50-d21d-4a73-8ca7-6c66c2f55c60",
   "metadata": {},
   "source": [
    "You will need to have `gurobipy` installed for this next step to work. At some point I will finish implementing bindings to the PuLP open-source solver library, but for now we are stuck with Gurobi as the only solver that works with ws3. \n",
    "\n",
    "You should be able to install `gurobipy` using the magic `%pip` command below, however this _only_ installs the Python module and minimal solver binaries. This _does not_ install the full Gurobi software stack, do the Gurobi licence managent tools (including the `grbgetkey` command) are _not_ installed automatically with the Python module. The `gurobipy` installation includes a limited software license that should allow you to solve _small_ problem instances, but will puke if you try to solve anything too large (which includes most `ws3` problems, unless you model is extremely small and simple). \n",
    "\n",
    "If you are eligible for an academic license, you should request and install a \"Named-User Acacdemic\" license from the Licenses tab in the [Gurobi User Portal](https://portal.gurobi.com/iam/licenses/request) (create a new Gurobi account if you do not have one yet, using your official academic institution email address). This license is per-user, per-machine, is valid for one year, should _only_ be used in an academic context (see [Gurobi Standard EULA](https://cdn.gurobi.com/wp-content/uploads/Gurobi_Standard_EULA_Nov2022.pdf) for details of license terms and restrictions).\n",
    "\n",
    "**Hint:** If you get a `grbgetkey: command not found` error, either the full Gurobi software stack is not installed at all on your system, or is installed but `grbgetkey` is not in your path. Depending on your situation, either [install the full Gurobi software stack](https://support.gurobi.com/hc/en-us/articles/4534161999889) or specify the full path to the `grbgetkey` command (I usually install Gurobi in `/opt/gurobi` when setting up my development VMs).   "
   ]
  },
  {
   "cell_type": "code",
   "execution_count": 21,
   "id": "c8eb0967-d1b1-4bf6-a31f-3c150cc8007a",
   "metadata": {
    "tags": []
   },
   "outputs": [
    {
     "name": "stdout",
     "output_type": "stream",
     "text": [
      "Requirement already satisfied: gurobipy in /opt/jupyterhub/lib/python3.10/site-packages (10.0.1)\n",
      "Note: you may need to restart the kernel to use updated packages.\n"
     ]
    }
   ],
   "source": [
    "%pip install gurobipy"
   ]
  },
  {
   "cell_type": "code",
   "execution_count": 22,
   "id": "7f831547-c224-465e-8b03-27f417cd5e1b",
   "metadata": {
    "tags": []
   },
   "outputs": [],
   "source": [
    "fm.reset()"
   ]
  },
  {
   "cell_type": "markdown",
   "id": "6c7311db-b40b-49a8-8ba4-345bf22f5786",
   "metadata": {},
   "source": [
    "Solve the optimization problem. Note that we stash a reference to the lower-level `gurobi.Model` object in case we need or want to poke around it (can yield insight into how the optimization problem is formulated on the solver side of things, or help debug).\n",
    "\n",
    "Be vigilant for \"infeasible or unbounded model\" messages and such below, in case these are unexpected. Depending on how the rest of the model was set up, `ws3` may automatically attempt to resolve infeasible models using \"feasibility relaxation\" mode in Gurobi (which might not be what you want, depending on the situation)."
   ]
  },
  {
   "cell_type": "code",
   "execution_count": 23,
   "id": "21162ccf-b6b6-465b-a7fb-79b7262e1dd1",
   "metadata": {
    "tags": []
   },
   "outputs": [
    {
     "name": "stdout",
     "output_type": "stream",
     "text": [
      "Set parameter Username\n",
      "Academic license - for non-commercial use only - expires 2024-02-16\n",
      "Gurobi Optimizer version 10.0.1 build v10.0.1rc0 (linux64)\n",
      "\n",
      "CPU model: Intel Xeon Processor (Skylake, IBRS), instruction set [SSE2|AVX|AVX2|AVX512]\n",
      "Thread count: 16 physical cores, 16 logical processors, using up to 16 threads\n",
      "\n",
      "Optimize a model with 64 rows, 297 columns and 3417 nonzeros\n",
      "Model fingerprint: 0xf8d14f89\n",
      "Coefficient statistics:\n",
      "  Matrix range     [3e-02, 6e+04]\n",
      "  Objective range  [4e+01, 6e+04]\n",
      "  Bounds range     [0e+00, 0e+00]\n",
      "  RHS range        [1e+00, 1e+00]\n",
      "Presolve removed 4 rows and 24 columns\n",
      "Presolve time: 0.01s\n",
      "Presolved: 60 rows, 273 columns, 3177 nonzeros\n",
      "\n",
      "Iteration    Objective       Primal Inf.    Dual Inf.      Time\n",
      "       0    3.3053602e+05   1.168626e+04   0.000000e+00      0s\n",
      "      82    2.7971964e+05   0.000000e+00   0.000000e+00      0s\n",
      "\n",
      "Solved in 82 iterations and 0.01 seconds (0.00 work units)\n",
      "Optimal objective  2.797196356e+05\n",
      "foo\n"
     ]
    }
   ],
   "source": [
    "m = p.solve()"
   ]
  },
  {
   "cell_type": "markdown",
   "id": "f4c2b378-70dc-481d-93e6-72cb51e50a90",
   "metadata": {},
   "source": [
    "If the model solved to optimality, simulate the optimal solution."
   ]
  },
  {
   "cell_type": "code",
   "execution_count": 24,
   "id": "336038ba-b334-41cc-b5e1-572764e1eec2",
   "metadata": {
    "tags": []
   },
   "outputs": [
    {
     "data": {
      "text/plain": [
       "0.0"
      ]
     },
     "execution_count": 24,
     "metadata": {},
     "output_type": "execute_result"
    }
   ],
   "source": [
    "if m.status != grb.GRB.OPTIMAL:\n",
    "    print('Model not optimal.')\n",
    "    sys.exit()\n",
    "sch = fm.compile_schedule(p)\n",
    "fm.apply_schedule(sch, \n",
    "                  force_integral_area=False, \n",
    "                  override_operability=False,\n",
    "                  fuzzy_age=False,\n",
    "                  recourse_enabled=False,\n",
    "                  verbose=False,\n",
    "                  compile_c_ycomps=True)"
   ]
  },
  {
   "cell_type": "code",
   "execution_count": 25,
   "id": "33abfe90-86ae-4f1d-b265-a99b699b2df1",
   "metadata": {
    "tags": []
   },
   "outputs": [
    {
     "data": {
      "text/html": [
       "<div>\n",
       "<style scoped>\n",
       "    .dataframe tbody tr th:only-of-type {\n",
       "        vertical-align: middle;\n",
       "    }\n",
       "\n",
       "    .dataframe tbody tr th {\n",
       "        vertical-align: top;\n",
       "    }\n",
       "\n",
       "    .dataframe thead th {\n",
       "        text-align: right;\n",
       "    }\n",
       "</style>\n",
       "<table border=\"1\" class=\"dataframe\">\n",
       "  <thead>\n",
       "    <tr style=\"text-align: right;\">\n",
       "      <th></th>\n",
       "      <th>period</th>\n",
       "      <th>oha</th>\n",
       "      <th>ohv</th>\n",
       "      <th>ogs</th>\n",
       "      <th>ofa11</th>\n",
       "      <th>ofa12</th>\n",
       "      <th>ofa13</th>\n",
       "      <th>ofa14</th>\n",
       "      <th>ofa15</th>\n",
       "      <th>ofa16</th>\n",
       "      <th>...</th>\n",
       "      <th>ofa22</th>\n",
       "      <th>ofa23</th>\n",
       "      <th>ofa24</th>\n",
       "      <th>ofa25</th>\n",
       "      <th>ofa26</th>\n",
       "      <th>ofa31</th>\n",
       "      <th>ofa32</th>\n",
       "      <th>ofa33</th>\n",
       "      <th>ofa34</th>\n",
       "      <th>ofa35</th>\n",
       "    </tr>\n",
       "  </thead>\n",
       "  <tbody>\n",
       "    <tr>\n",
       "      <th>0</th>\n",
       "      <td>1</td>\n",
       "      <td>139.531536</td>\n",
       "      <td>28252.788476</td>\n",
       "      <td>149771.625322</td>\n",
       "      <td>0.0</td>\n",
       "      <td>0.0</td>\n",
       "      <td>0.0</td>\n",
       "      <td>0.0</td>\n",
       "      <td>0.0</td>\n",
       "      <td>0.0</td>\n",
       "      <td>...</td>\n",
       "      <td>0.0</td>\n",
       "      <td>0.0</td>\n",
       "      <td>0.0</td>\n",
       "      <td>0.0</td>\n",
       "      <td>0.0</td>\n",
       "      <td>0.0</td>\n",
       "      <td>0.0</td>\n",
       "      <td>0.0</td>\n",
       "      <td>0.0</td>\n",
       "      <td>0.0</td>\n",
       "    </tr>\n",
       "    <tr>\n",
       "      <th>1</th>\n",
       "      <td>2</td>\n",
       "      <td>132.554959</td>\n",
       "      <td>28269.818125</td>\n",
       "      <td>138136.539175</td>\n",
       "      <td>0.0</td>\n",
       "      <td>0.0</td>\n",
       "      <td>0.0</td>\n",
       "      <td>0.0</td>\n",
       "      <td>0.0</td>\n",
       "      <td>0.0</td>\n",
       "      <td>...</td>\n",
       "      <td>0.0</td>\n",
       "      <td>0.0</td>\n",
       "      <td>0.0</td>\n",
       "      <td>0.0</td>\n",
       "      <td>0.0</td>\n",
       "      <td>0.0</td>\n",
       "      <td>0.0</td>\n",
       "      <td>0.0</td>\n",
       "      <td>0.0</td>\n",
       "      <td>0.0</td>\n",
       "    </tr>\n",
       "    <tr>\n",
       "      <th>2</th>\n",
       "      <td>3</td>\n",
       "      <td>137.286864</td>\n",
       "      <td>26840.149052</td>\n",
       "      <td>125613.403960</td>\n",
       "      <td>0.0</td>\n",
       "      <td>0.0</td>\n",
       "      <td>0.0</td>\n",
       "      <td>0.0</td>\n",
       "      <td>0.0</td>\n",
       "      <td>0.0</td>\n",
       "      <td>...</td>\n",
       "      <td>0.0</td>\n",
       "      <td>0.0</td>\n",
       "      <td>0.0</td>\n",
       "      <td>0.0</td>\n",
       "      <td>0.0</td>\n",
       "      <td>0.0</td>\n",
       "      <td>0.0</td>\n",
       "      <td>0.0</td>\n",
       "      <td>0.0</td>\n",
       "      <td>0.0</td>\n",
       "    </tr>\n",
       "    <tr>\n",
       "      <th>3</th>\n",
       "      <td>4</td>\n",
       "      <td>146.508113</td>\n",
       "      <td>26840.149052</td>\n",
       "      <td>113669.124912</td>\n",
       "      <td>0.0</td>\n",
       "      <td>0.0</td>\n",
       "      <td>0.0</td>\n",
       "      <td>0.0</td>\n",
       "      <td>0.0</td>\n",
       "      <td>0.0</td>\n",
       "      <td>...</td>\n",
       "      <td>0.0</td>\n",
       "      <td>0.0</td>\n",
       "      <td>0.0</td>\n",
       "      <td>0.0</td>\n",
       "      <td>0.0</td>\n",
       "      <td>0.0</td>\n",
       "      <td>0.0</td>\n",
       "      <td>0.0</td>\n",
       "      <td>0.0</td>\n",
       "      <td>0.0</td>\n",
       "    </tr>\n",
       "    <tr>\n",
       "      <th>4</th>\n",
       "      <td>5</td>\n",
       "      <td>146.508113</td>\n",
       "      <td>26840.149052</td>\n",
       "      <td>101001.517963</td>\n",
       "      <td>0.0</td>\n",
       "      <td>0.0</td>\n",
       "      <td>0.0</td>\n",
       "      <td>0.0</td>\n",
       "      <td>0.0</td>\n",
       "      <td>0.0</td>\n",
       "      <td>...</td>\n",
       "      <td>0.0</td>\n",
       "      <td>0.0</td>\n",
       "      <td>0.0</td>\n",
       "      <td>0.0</td>\n",
       "      <td>0.0</td>\n",
       "      <td>0.0</td>\n",
       "      <td>0.0</td>\n",
       "      <td>0.0</td>\n",
       "      <td>0.0</td>\n",
       "      <td>0.0</td>\n",
       "    </tr>\n",
       "    <tr>\n",
       "      <th>5</th>\n",
       "      <td>6</td>\n",
       "      <td>146.508113</td>\n",
       "      <td>26840.149052</td>\n",
       "      <td>89165.032354</td>\n",
       "      <td>0.0</td>\n",
       "      <td>0.0</td>\n",
       "      <td>0.0</td>\n",
       "      <td>0.0</td>\n",
       "      <td>0.0</td>\n",
       "      <td>0.0</td>\n",
       "      <td>...</td>\n",
       "      <td>0.0</td>\n",
       "      <td>0.0</td>\n",
       "      <td>0.0</td>\n",
       "      <td>0.0</td>\n",
       "      <td>0.0</td>\n",
       "      <td>0.0</td>\n",
       "      <td>0.0</td>\n",
       "      <td>0.0</td>\n",
       "      <td>0.0</td>\n",
       "      <td>0.0</td>\n",
       "    </tr>\n",
       "    <tr>\n",
       "      <th>6</th>\n",
       "      <td>7</td>\n",
       "      <td>141.599309</td>\n",
       "      <td>26840.149052</td>\n",
       "      <td>77758.342269</td>\n",
       "      <td>0.0</td>\n",
       "      <td>0.0</td>\n",
       "      <td>0.0</td>\n",
       "      <td>0.0</td>\n",
       "      <td>0.0</td>\n",
       "      <td>0.0</td>\n",
       "      <td>...</td>\n",
       "      <td>0.0</td>\n",
       "      <td>0.0</td>\n",
       "      <td>0.0</td>\n",
       "      <td>0.0</td>\n",
       "      <td>0.0</td>\n",
       "      <td>0.0</td>\n",
       "      <td>0.0</td>\n",
       "      <td>0.0</td>\n",
       "      <td>0.0</td>\n",
       "      <td>0.0</td>\n",
       "    </tr>\n",
       "    <tr>\n",
       "      <th>7</th>\n",
       "      <td>8</td>\n",
       "      <td>132.554959</td>\n",
       "      <td>29665.427900</td>\n",
       "      <td>63595.747000</td>\n",
       "      <td>0.0</td>\n",
       "      <td>0.0</td>\n",
       "      <td>0.0</td>\n",
       "      <td>0.0</td>\n",
       "      <td>0.0</td>\n",
       "      <td>0.0</td>\n",
       "      <td>...</td>\n",
       "      <td>0.0</td>\n",
       "      <td>0.0</td>\n",
       "      <td>0.0</td>\n",
       "      <td>0.0</td>\n",
       "      <td>0.0</td>\n",
       "      <td>0.0</td>\n",
       "      <td>0.0</td>\n",
       "      <td>0.0</td>\n",
       "      <td>0.0</td>\n",
       "      <td>0.0</td>\n",
       "    </tr>\n",
       "    <tr>\n",
       "      <th>8</th>\n",
       "      <td>9</td>\n",
       "      <td>146.508113</td>\n",
       "      <td>29665.427900</td>\n",
       "      <td>49530.007513</td>\n",
       "      <td>0.0</td>\n",
       "      <td>0.0</td>\n",
       "      <td>0.0</td>\n",
       "      <td>0.0</td>\n",
       "      <td>0.0</td>\n",
       "      <td>0.0</td>\n",
       "      <td>...</td>\n",
       "      <td>0.0</td>\n",
       "      <td>0.0</td>\n",
       "      <td>0.0</td>\n",
       "      <td>0.0</td>\n",
       "      <td>0.0</td>\n",
       "      <td>0.0</td>\n",
       "      <td>0.0</td>\n",
       "      <td>0.0</td>\n",
       "      <td>0.0</td>\n",
       "      <td>0.0</td>\n",
       "    </tr>\n",
       "    <tr>\n",
       "      <th>9</th>\n",
       "      <td>10</td>\n",
       "      <td>146.508113</td>\n",
       "      <td>29665.427900</td>\n",
       "      <td>33783.638700</td>\n",
       "      <td>0.0</td>\n",
       "      <td>0.0</td>\n",
       "      <td>0.0</td>\n",
       "      <td>0.0</td>\n",
       "      <td>0.0</td>\n",
       "      <td>0.0</td>\n",
       "      <td>...</td>\n",
       "      <td>0.0</td>\n",
       "      <td>0.0</td>\n",
       "      <td>0.0</td>\n",
       "      <td>0.0</td>\n",
       "      <td>0.0</td>\n",
       "      <td>0.0</td>\n",
       "      <td>0.0</td>\n",
       "      <td>0.0</td>\n",
       "      <td>0.0</td>\n",
       "      <td>0.0</td>\n",
       "    </tr>\n",
       "  </tbody>\n",
       "</table>\n",
       "<p>10 rows × 22 columns</p>\n",
       "</div>"
      ],
      "text/plain": [
       "   period         oha           ohv            ogs  ofa11  ofa12  ofa13  \\\n",
       "0       1  139.531536  28252.788476  149771.625322    0.0    0.0    0.0   \n",
       "1       2  132.554959  28269.818125  138136.539175    0.0    0.0    0.0   \n",
       "2       3  137.286864  26840.149052  125613.403960    0.0    0.0    0.0   \n",
       "3       4  146.508113  26840.149052  113669.124912    0.0    0.0    0.0   \n",
       "4       5  146.508113  26840.149052  101001.517963    0.0    0.0    0.0   \n",
       "5       6  146.508113  26840.149052   89165.032354    0.0    0.0    0.0   \n",
       "6       7  141.599309  26840.149052   77758.342269    0.0    0.0    0.0   \n",
       "7       8  132.554959  29665.427900   63595.747000    0.0    0.0    0.0   \n",
       "8       9  146.508113  29665.427900   49530.007513    0.0    0.0    0.0   \n",
       "9      10  146.508113  29665.427900   33783.638700    0.0    0.0    0.0   \n",
       "\n",
       "   ofa14  ofa15  ofa16  ...  ofa22  ofa23  ofa24  ofa25  ofa26  ofa31  ofa32  \\\n",
       "0    0.0    0.0    0.0  ...    0.0    0.0    0.0    0.0    0.0    0.0    0.0   \n",
       "1    0.0    0.0    0.0  ...    0.0    0.0    0.0    0.0    0.0    0.0    0.0   \n",
       "2    0.0    0.0    0.0  ...    0.0    0.0    0.0    0.0    0.0    0.0    0.0   \n",
       "3    0.0    0.0    0.0  ...    0.0    0.0    0.0    0.0    0.0    0.0    0.0   \n",
       "4    0.0    0.0    0.0  ...    0.0    0.0    0.0    0.0    0.0    0.0    0.0   \n",
       "5    0.0    0.0    0.0  ...    0.0    0.0    0.0    0.0    0.0    0.0    0.0   \n",
       "6    0.0    0.0    0.0  ...    0.0    0.0    0.0    0.0    0.0    0.0    0.0   \n",
       "7    0.0    0.0    0.0  ...    0.0    0.0    0.0    0.0    0.0    0.0    0.0   \n",
       "8    0.0    0.0    0.0  ...    0.0    0.0    0.0    0.0    0.0    0.0    0.0   \n",
       "9    0.0    0.0    0.0  ...    0.0    0.0    0.0    0.0    0.0    0.0    0.0   \n",
       "\n",
       "   ofa33  ofa34  ofa35  \n",
       "0    0.0    0.0    0.0  \n",
       "1    0.0    0.0    0.0  \n",
       "2    0.0    0.0    0.0  \n",
       "3    0.0    0.0    0.0  \n",
       "4    0.0    0.0    0.0  \n",
       "5    0.0    0.0    0.0  \n",
       "6    0.0    0.0    0.0  \n",
       "7    0.0    0.0    0.0  \n",
       "8    0.0    0.0    0.0  \n",
       "9    0.0    0.0    0.0  \n",
       "\n",
       "[10 rows x 22 columns]"
      ]
     },
     "execution_count": 25,
     "metadata": {},
     "output_type": "execute_result"
    }
   ],
   "source": [
    "df = compile_scenario(fm)\n",
    "df"
   ]
  },
  {
   "cell_type": "code",
   "execution_count": 26,
   "id": "0c92b93b-c35f-45de-8e37-fea3ce60566d",
   "metadata": {
    "tags": []
   },
   "outputs": [
    {
     "data": {
      "image/png": "[encoded data removed]",
      "text/plain": [
       "<Figure size 1600x400 with 4 Axes>"
      ]
     },
     "metadata": {},
     "output_type": "display_data"
    }
   ],
   "source": [
    "fig, ax = plot_scenario(df)"
   ]
  },
  {
   "cell_type": "code",
   "execution_count": null,
   "id": "08766069-b700-488a-b738-5eed7956d2f2",
   "metadata": {},
   "outputs": [],
   "source": []
  },
  {
   "cell_type": "code",
   "execution_count": null,
   "id": "f7e9edbc-bffe-4e71-93f7-80cc6f581c69",
   "metadata": {},
   "outputs": [],
   "source": []
  },
  {
   "cell_type": "code",
   "execution_count": null,
   "id": "34510dec-e51e-4bc6-b71e-c1e9131714cf",
   "metadata": {},
   "outputs": [],
   "source": []
  }
 ],
 "metadata": {
  "kernelspec": {
   "display_name": "Python 3 (ipykernel)",
   "language": "python",
   "name": "python3"
  },
  "language_info": {
   "codemirror_mode": {
    "name": "ipython",
    "version": 3
   },
   "file_extension": ".py",
   "mimetype": "text/x-python",
   "name": "python",
   "nbconvert_exporter": "python",
   "pygments_lexer": "ipython3",
   "version": "3.10.6"
  }
 },
 "nbformat": 4,
 "nbformat_minor": 5
}
